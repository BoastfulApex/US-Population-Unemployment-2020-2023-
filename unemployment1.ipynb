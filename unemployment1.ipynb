{
 "cells": [
  {
   "cell_type": "code",
   "execution_count": 1,
   "id": "9755b9b5",
   "metadata": {},
   "outputs": [],
   "source": [
    "import pandas as pd\n",
    "import matplotlib.pyplot as plt\n",
    "import seaborn as sns\n",
    "\n",
    "# Vizualizatsiya uslubi\n",
    "sns.set(style='whitegrid')\n"
   ]
  },
  {
   "cell_type": "code",
   "execution_count": 2,
   "id": "bb253b43",
   "metadata": {},
   "outputs": [
    {
     "name": "stdout",
     "output_type": "stream",
     "text": [
      "  country_name                    indicator_name     sex age_group  \\\n",
      "0  Afghanistan  Unemployment rate by sex and age  Female     15-24   \n",
      "1  Afghanistan  Unemployment rate by sex and age  Female       25+   \n",
      "2  Afghanistan  Unemployment rate by sex and age  Female  Under 15   \n",
      "3  Afghanistan  Unemployment rate by sex and age    Male     15-24   \n",
      "4  Afghanistan  Unemployment rate by sex and age    Male       25+   \n",
      "\n",
      "  age_categories    2014    2015    2016    2017    2018    2019    2020  \\\n",
      "0          Youth  13.340  15.974  18.570  21.137  20.649  20.154  21.228   \n",
      "1         Adults   8.576   9.014   9.463   9.920  11.223  12.587  14.079   \n",
      "2       Children  10.306  11.552  12.789  14.017  14.706  15.418  16.783   \n",
      "3          Youth   9.206  11.502  13.772  16.027  15.199  14.361  14.452   \n",
      "4         Adults   6.463   6.879   7.301   7.728   7.833   7.961   8.732   \n",
      "\n",
      "     2021    2022    2023    2024  \n",
      "0  21.640  30.561  32.200  33.332  \n",
      "1  14.415  23.818  26.192  28.298  \n",
      "2  17.134  26.746  29.193  30.956  \n",
      "3  15.099  16.655  18.512  19.770  \n",
      "4   9.199  11.357  12.327  13.087  \n"
     ]
    }
   ],
   "source": [
    "df = pd.read_csv(\"Global_Unemployment_Data.csv\")\n",
    "\n",
    "# Dastlabki 5 qatordan namuna\n",
    "print(df.head())\n"
   ]
  },
  {
   "cell_type": "code",
   "execution_count": 6,
   "id": "550a3bc9",
   "metadata": {},
   "outputs": [
    {
     "name": "stdout",
     "output_type": "stream",
     "text": [
      "Index(['country_name', 'indicator_name', 'sex', 'age_group', 'age_categories',\n",
      "       '2014', '2015', '2016', '2017', '2018', '2019', '2020', '2021', '2022',\n",
      "       '2023', '2024'],\n",
      "      dtype='object')\n",
      "  country_name                    indicator_name     sex age_group  \\\n",
      "0  Afghanistan  Unemployment rate by sex and age  Female     15-24   \n",
      "1  Afghanistan  Unemployment rate by sex and age  Female       25+   \n",
      "2  Afghanistan  Unemployment rate by sex and age  Female  Under 15   \n",
      "3  Afghanistan  Unemployment rate by sex and age    Male     15-24   \n",
      "4  Afghanistan  Unemployment rate by sex and age    Male       25+   \n",
      "\n",
      "  age_categories    2014    2015    2016    2017    2018    2019    2020  \\\n",
      "0          Youth  13.340  15.974  18.570  21.137  20.649  20.154  21.228   \n",
      "1         Adults   8.576   9.014   9.463   9.920  11.223  12.587  14.079   \n",
      "2       Children  10.306  11.552  12.789  14.017  14.706  15.418  16.783   \n",
      "3          Youth   9.206  11.502  13.772  16.027  15.199  14.361  14.452   \n",
      "4         Adults   6.463   6.879   7.301   7.728   7.833   7.961   8.732   \n",
      "\n",
      "     2021    2022    2023    2024  \n",
      "0  21.640  30.561  32.200  33.332  \n",
      "1  14.415  23.818  26.192  28.298  \n",
      "2  17.134  26.746  29.193  30.956  \n",
      "3  15.099  16.655  18.512  19.770  \n",
      "4   9.199  11.357  12.327  13.087  \n"
     ]
    }
   ],
   "source": [
    "import pandas as pd\n",
    "\n",
    "df = pd.read_csv(\"Global_Unemployment_Data.csv\")\n",
    "print(df.columns)\n",
    "print(df.head())\n"
   ]
  },
  {
   "cell_type": "code",
   "execution_count": 9,
   "id": "46d52a03",
   "metadata": {},
   "outputs": [
    {
     "data": {
      "text/html": [
       "<div>\n",
       "<style scoped>\n",
       "    .dataframe tbody tr th:only-of-type {\n",
       "        vertical-align: middle;\n",
       "    }\n",
       "\n",
       "    .dataframe tbody tr th {\n",
       "        vertical-align: top;\n",
       "    }\n",
       "\n",
       "    .dataframe thead th {\n",
       "        text-align: right;\n",
       "    }\n",
       "</style>\n",
       "<table border=\"1\" class=\"dataframe\">\n",
       "  <thead>\n",
       "    <tr style=\"text-align: right;\">\n",
       "      <th></th>\n",
       "      <th>2016</th>\n",
       "      <th>2017</th>\n",
       "      <th>2018</th>\n",
       "      <th>2019</th>\n",
       "      <th>2020</th>\n",
       "      <th>2021</th>\n",
       "      <th>2022</th>\n",
       "      <th>2023</th>\n",
       "    </tr>\n",
       "  </thead>\n",
       "  <tbody>\n",
       "    <tr>\n",
       "      <th>0</th>\n",
       "      <td>18.570</td>\n",
       "      <td>21.137</td>\n",
       "      <td>20.649</td>\n",
       "      <td>20.154</td>\n",
       "      <td>21.228</td>\n",
       "      <td>21.640</td>\n",
       "      <td>30.561</td>\n",
       "      <td>32.200</td>\n",
       "    </tr>\n",
       "    <tr>\n",
       "      <th>1</th>\n",
       "      <td>9.463</td>\n",
       "      <td>9.920</td>\n",
       "      <td>11.223</td>\n",
       "      <td>12.587</td>\n",
       "      <td>14.079</td>\n",
       "      <td>14.415</td>\n",
       "      <td>23.818</td>\n",
       "      <td>26.192</td>\n",
       "    </tr>\n",
       "    <tr>\n",
       "      <th>2</th>\n",
       "      <td>12.789</td>\n",
       "      <td>14.017</td>\n",
       "      <td>14.706</td>\n",
       "      <td>15.418</td>\n",
       "      <td>16.783</td>\n",
       "      <td>17.134</td>\n",
       "      <td>26.746</td>\n",
       "      <td>29.193</td>\n",
       "    </tr>\n",
       "    <tr>\n",
       "      <th>3</th>\n",
       "      <td>13.772</td>\n",
       "      <td>16.027</td>\n",
       "      <td>15.199</td>\n",
       "      <td>14.361</td>\n",
       "      <td>14.452</td>\n",
       "      <td>15.099</td>\n",
       "      <td>16.655</td>\n",
       "      <td>18.512</td>\n",
       "    </tr>\n",
       "    <tr>\n",
       "      <th>4</th>\n",
       "      <td>7.301</td>\n",
       "      <td>7.728</td>\n",
       "      <td>7.833</td>\n",
       "      <td>7.961</td>\n",
       "      <td>8.732</td>\n",
       "      <td>9.199</td>\n",
       "      <td>11.357</td>\n",
       "      <td>12.327</td>\n",
       "    </tr>\n",
       "    <tr>\n",
       "      <th>...</th>\n",
       "      <td>...</td>\n",
       "      <td>...</td>\n",
       "      <td>...</td>\n",
       "      <td>...</td>\n",
       "      <td>...</td>\n",
       "      <td>...</td>\n",
       "      <td>...</td>\n",
       "      <td>...</td>\n",
       "    </tr>\n",
       "    <tr>\n",
       "      <th>1129</th>\n",
       "      <td>4.773</td>\n",
       "      <td>4.900</td>\n",
       "      <td>5.027</td>\n",
       "      <td>5.309</td>\n",
       "      <td>6.345</td>\n",
       "      <td>7.792</td>\n",
       "      <td>7.704</td>\n",
       "      <td>7.597</td>\n",
       "    </tr>\n",
       "    <tr>\n",
       "      <th>1130</th>\n",
       "      <td>6.014</td>\n",
       "      <td>6.289</td>\n",
       "      <td>6.555</td>\n",
       "      <td>6.990</td>\n",
       "      <td>8.494</td>\n",
       "      <td>9.853</td>\n",
       "      <td>9.670</td>\n",
       "      <td>9.518</td>\n",
       "    </tr>\n",
       "    <tr>\n",
       "      <th>1131</th>\n",
       "      <td>8.119</td>\n",
       "      <td>9.029</td>\n",
       "      <td>9.927</td>\n",
       "      <td>11.048</td>\n",
       "      <td>13.191</td>\n",
       "      <td>14.261</td>\n",
       "      <td>13.966</td>\n",
       "      <td>13.675</td>\n",
       "    </tr>\n",
       "    <tr>\n",
       "      <th>1132</th>\n",
       "      <td>4.843</td>\n",
       "      <td>5.287</td>\n",
       "      <td>5.722</td>\n",
       "      <td>6.362</td>\n",
       "      <td>6.996</td>\n",
       "      <td>7.234</td>\n",
       "      <td>6.858</td>\n",
       "      <td>6.757</td>\n",
       "    </tr>\n",
       "    <tr>\n",
       "      <th>1133</th>\n",
       "      <td>5.821</td>\n",
       "      <td>6.410</td>\n",
       "      <td>6.984</td>\n",
       "      <td>7.760</td>\n",
       "      <td>8.809</td>\n",
       "      <td>9.223</td>\n",
       "      <td>8.842</td>\n",
       "      <td>8.713</td>\n",
       "    </tr>\n",
       "  </tbody>\n",
       "</table>\n",
       "<p>1134 rows × 8 columns</p>\n",
       "</div>"
      ],
      "text/plain": [
       "        2016    2017    2018    2019    2020    2021    2022    2023\n",
       "0     18.570  21.137  20.649  20.154  21.228  21.640  30.561  32.200\n",
       "1      9.463   9.920  11.223  12.587  14.079  14.415  23.818  26.192\n",
       "2     12.789  14.017  14.706  15.418  16.783  17.134  26.746  29.193\n",
       "3     13.772  16.027  15.199  14.361  14.452  15.099  16.655  18.512\n",
       "4      7.301   7.728   7.833   7.961   8.732   9.199  11.357  12.327\n",
       "...      ...     ...     ...     ...     ...     ...     ...     ...\n",
       "1129   4.773   4.900   5.027   5.309   6.345   7.792   7.704   7.597\n",
       "1130   6.014   6.289   6.555   6.990   8.494   9.853   9.670   9.518\n",
       "1131   8.119   9.029   9.927  11.048  13.191  14.261  13.966  13.675\n",
       "1132   4.843   5.287   5.722   6.362   6.996   7.234   6.858   6.757\n",
       "1133   5.821   6.410   6.984   7.760   8.809   9.223   8.842   8.713\n",
       "\n",
       "[1134 rows x 8 columns]"
      ]
     },
     "execution_count": 9,
     "metadata": {},
     "output_type": "execute_result"
    }
   ],
   "source": [
    "years = [str(year) for year in range(2016, 2024)]\n",
    "df_years = df[years]\n",
    "df_years"
   ]
  },
  {
   "cell_type": "code",
   "execution_count": 12,
   "id": "7474a885",
   "metadata": {},
   "outputs": [
    {
     "data": {
      "text/plain": [
       "2016    11.122963\n",
       "2017    10.863516\n",
       "2018    10.516499\n",
       "2019    10.311452\n",
       "2020    11.851285\n",
       "2021    11.422645\n",
       "2022    10.340361\n",
       "2023     9.985181\n",
       "dtype: float64"
      ]
     },
     "execution_count": 12,
     "metadata": {},
     "output_type": "execute_result"
    }
   ],
   "source": [
    "avg_per_year = df_years.mean()\n",
    "avg_per_year"
   ]
  },
  {
   "cell_type": "code",
   "execution_count": null,
   "id": "17d435ab",
   "metadata": {},
   "outputs": [
    {
     "name": "stderr",
     "output_type": "stream",
     "text": [
      "C:\\Users\\BoastfulApex\\AppData\\Local\\Temp\\ipykernel_6220\\462080534.py:7: UserWarning: Glyph 127757 (\\N{EARTH GLOBE EUROPE-AFRICA}) missing from font(s) Arial.\n",
      "  plt.tight_layout()\n",
      "C:\\Users\\BoastfulApex\\AppData\\Roaming\\Python\\Python310\\site-packages\\IPython\\core\\pylabtools.py:170: UserWarning: Glyph 127757 (\\N{EARTH GLOBE EUROPE-AFRICA}) missing from font(s) Arial.\n",
      "  fig.canvas.print_figure(bytes_io, **kw)\n"
     ]
    },
    {
     "data": {
      "image/png": "[encoded data removed]",
      "text/plain": [
       "<Figure size 1000x600 with 1 Axes>"
      ]
     },
     "metadata": {},
     "output_type": "display_data"
    }
   ],
   "source": [
    "plt.figure(figsize=(10, 6))\n",
    "sns.lineplot(x=avg_per_year.index, y=avg_per_year.values, marker=\"o\")\n",
    "plt.title(\"🌍 2016–2023 yillarda global o‘rtacha ishsizlik darajasi (%)\")\n",
    "plt.xlabel(\"Yil\")\n",
    "plt.ylabel(\"Ishsizlik (%)\")\n",
    "plt.grid(True)\n",
    "plt.tight_layout()\n",
    "plt.show()"
   ]
  },
  {
   "cell_type": "code",
   "execution_count": 15,
   "id": "33ad35ae",
   "metadata": {},
   "outputs": [],
   "source": [
    "df_long = df.melt(id_vars=['country_name', 'sex', 'age_group', 'age_categories'],\n",
    "                  value_vars=[str(y) for y in range(2016, 2024)],\n",
    "                  var_name='year',\n",
    "                  value_name='unemployment_rate')\n"
   ]
  },
  {
   "cell_type": "code",
   "execution_count": null,
   "id": "7927e89c",
   "metadata": {},
   "outputs": [],
   "source": []
  }
 ],
 "metadata": {
  "kernelspec": {
   "display_name": "Python 3",
   "language": "python",
   "name": "python3"
  },
  "language_info": {
   "codemirror_mode": {
    "name": "ipython",
    "version": 3
   },
   "file_extension": ".py",
   "mimetype": "text/x-python",
   "name": "python",
   "nbconvert_exporter": "python",
   "pygments_lexer": "ipython3",
   "version": "3.10.10"
  }
 },
 "nbformat": 4,
 "nbformat_minor": 5
}
